{
 "cells": [
  {
   "cell_type": "markdown",
   "metadata": {},
   "source": [
    "# **Coursera Capstone- The Battle of Neighborhoods**\n",
    "\n",
    "### Build your Tourism Experience in London\n",
    "\n",
    "\n",
    "#### **Data Section:**\n",
    "\n",
    "\n",
    "\n",
    "#### Following sources of data are used while executing the Capstone Project: \n",
    "\n",
    "* **Data title: Foursquare Places Database**\n",
    "\n",
    "    1. Type of data: Dataset in form of CSV file\n",
    "\n",
    "    2. Description of the dataset: Places Database includes information on all hotels of different price ranges in different neighborhoods in England and Wales including the closest venues of different categories to explore like shopping, dining, museums etc. It has the set of venues of different categories closest to the hotel. This dataset was loaded and hosted on https://labs.cognitiveclass.ai/ for ease of use.\n",
    "\n",
    "    3. Source: https://developer.foursquare.com/docs/data\n",
    "\n",
    "\n",
    "* **Data title: Google Maps Geocoding API** \n",
    "\n",
    "    1. Type of data: JSON\n",
    "\n",
    "    2. Description of the data: Location coordinates obtained by Gmaps API calls. Location Information obtained from Price Paid Dataset is used to obtain the location coordinates from Google Maps.A separate Python script has been developed to extract the unique street names, district names from the Price Paid Dataset and embed those in the GMaps API calls to obtain the required information.\n",
    "\n",
    "    3. Source: Google Cloud Platform/ Google Maps\n",
    "\n",
    "* **Data title: Foursquare location data**\n",
    "\n",
    "    1. Type of data: JSON\n",
    "\n",
    "    2. Description of the data: Location coordinates obtained by Foursquare API calls.\n",
    "\n",
    "    3. Source: https://foursquare.com/\n",
    "\n",
    "\n"
   ]
  }
 ],
 "metadata": {
  "kernelspec": {
   "display_name": "Python 3",
   "language": "python",
   "name": "python3"
  },
  "language_info": {
   "codemirror_mode": {
    "name": "ipython",
    "version": 3
   },
   "file_extension": ".py",
   "mimetype": "text/x-python",
   "name": "python",
   "nbconvert_exporter": "python",
   "pygments_lexer": "ipython3",
   "version": "3.7.0"
  }
 },
 "nbformat": 4,
 "nbformat_minor": 2
}
