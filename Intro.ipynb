{
 "cells": [
  {
   "cell_type": "markdown",
   "metadata": {},
   "source": [
    "# **Coursera Capstone- The Battle of Neighborhoods**\n",
    "\n",
    "### Build your Tourism Experience in London\n",
    "\n",
    "\n",
    "#### **Introduction/Business Problem:**\n",
    "\n",
    "\n",
    "Tourism industry is one of world’s fast-growing and gained economic benefits in many countries all around the world. And London is one of the world's leading tourism destinations with the city being home to an array of famous tourist attractions. However People of all kinds, from around the world flock to London, UK all aspiring to make their visit to this remarkable place an experience they would never forget. Research of tourist demand proves that it has become more important for tourists how to spend an unforgettable holiday than where to spend it. It isn’t necessary that the best tourism experience would be the same for all, rather most people would have specific preferences on what they want out of their visit. Further, he/ she would like to consider several factors that are specific to their needs and expectations. Some would like to visit the more popular tourism spots like the London eye, Piccadilly Circus and Trafalgar Square, while some lovers of culture would prefer to visit the museums and galleries, and those who would want to explore the breathtaking views and landscape like the River Thames and so much more. From royal palaces to the people’s parliament, from museums and cathedrals to gardens and parks, there is no shortage of things to see and do in London. With varying budgets and needs it is necessary travelers choose a neighborhood in which to stay based on proximity to their tour plan spots whether they be popular tourist attractions, public transport facilities, markets, dining, theatre, shopping, entertainment or nightlife.\n",
    "\n",
    "With government provided authentic data on hotels, BnBs and other housing facilities coupled with data science techniques, one can make derive useful information about where the prime locations to stay as well as its current pricing in different localities of London while considering other factors of his choice to make the best experience of their tour. This would help the potential client to make an informed decision about booking a suitable hotel or stay within their budget range.\n",
    "\n",
    "* **Target audience:** Potential tourists looking to book a suitable hotel or stay in London but are overwhelmed with all the choices and unable to make the best pick due to lack of proper information and knowhow of their way around London.\n",
    "\n",
    "* **Stakeholders:** \n",
    "    1. Government of UK\n",
    "    2. Official Tourist Board of UK\n",
    "    3. Tour Operators and Agencies\n",
    "    4. Hotels, BnBs, Housing Facilities\n",
    "\n"
   ]
  }
 ],
 "metadata": {
  "kernelspec": {
   "display_name": "Python 3",
   "language": "python",
   "name": "python3"
  },
  "language_info": {
   "codemirror_mode": {
    "name": "ipython",
    "version": 3
   },
   "file_extension": ".py",
   "mimetype": "text/x-python",
   "name": "python",
   "nbconvert_exporter": "python",
   "pygments_lexer": "ipython3",
   "version": "3.7.0"
  }
 },
 "nbformat": 4,
 "nbformat_minor": 2
}
